{
 "cells": [
  {
   "cell_type": "code",
   "execution_count": null,
   "metadata": {},
   "outputs": [],
   "source": [
    "###############################################################\n",
    "# Purpose :  Run the Baseline model to get the residuals\n",
    "###############################################################\n",
    "\n",
    "import pandas as pd\n",
    "import numpy as np\n",
    "\n",
    "from sklearn.model_selection import train_test_split\n",
    "from sklearn.linear_model import LinearRegression, Lasso, LassoCV, ElasticNet, ElasticNetCV, LogisticRegression, RidgeCV\n",
    "from sklearn.metrics import r2_score, explained_variance_score, mean_squared_error, f1_score, accuracy_score\n",
    "from sklearn.model_selection import GridSearchCV\n",
    "from sklearn.model_selection import RandomizedSearchCV\n",
    "from sklearn.model_selection import cross_val_score\n",
    "from sklearn import preprocessing\n",
    "\n",
    "import xgboost as xgb\n",
    "from xgboost import XGBRegressor\n",
    "import pickle\n",
    "import optuna\n",
    "\n",
    "from step_2_auxiliary_functions import load_prsice, objective, adj_pheno, bootstrap_prediction_intervals"
   ]
  },
  {
   "cell_type": "code",
   "execution_count": 6,
   "metadata": {},
   "outputs": [],
   "source": [
    "#Parameters tuned from Optuna for baseline model adjustment\n",
    "#SBP\n",
    "sbp_baseline_params = {'max_depth': 99, 'min_child_weight': 20, 'subsample': 0.4, 'colsample_bytree': 0.7000000000000001,\\\n",
    "                       'lambda': 0, 'alpha': 49, 'gamma': 19, 'eta': 0.01, 'nthread':-1}\n",
    "sbp_baseline_xgb_num_boost_rounds = 460\n",
    "\n",
    "\n",
    "#DBP\n",
    "dbp_baseline_params = {'max_depth': 3, 'min_child_weight': 100, 'subsample': 0.6, 'colsample_bytree': 1.0, \\\n",
    "                       'lambda': 20, 'alpha': 14, 'gamma': 32, 'eta': 0.04, 'nthread':-1} \n",
    "dbp_baseline_xgb_num_boost_rounds = 315"
   ]
  },
  {
   "cell_type": "code",
   "execution_count": 7,
   "metadata": {},
   "outputs": [],
   "source": [
    "baseline_phenotypes_dir = '/2022_BP_ensemble/Data/TOPMed_phenotypes/baseline data/'"
   ]
  },
  {
   "cell_type": "code",
   "execution_count": 8,
   "metadata": {},
   "outputs": [],
   "source": [
    "#Read in SBP baseline data and run baseline model \n",
    "\n",
    "baseline_phenotype_data_train_sbp = pd.read_csv(baseline_phenotypes_dir+'TOPMed_sbp_x_train_baseline_data.csv', dtype = {'sample.id':'str'}).set_index('sample.id')\n",
    "baseline_phenotype_data_test_sbp = pd.read_csv(baseline_phenotypes_dir+'TOPMed_sbp_x_test_baseline_data.csv', dtype = {'sample.id':'str'}).set_index('sample.id')\n",
    "\n",
    "baseline_y_train_sbp = pd.read_csv(baseline_phenotypes_dir+'TOPMed_sbp_y_train_baseline_data.csv', dtype = {'sample.id':'str'}).set_index('sample.id').iloc[:, 0]\n",
    "baseline_y_test_sbp = pd.read_csv(baseline_phenotypes_dir+'TOPMed_sbp_y_test_baseline_data.csv', dtype = {'sample.id':'str'}).set_index('sample.id').iloc[:, 0]"
   ]
  },
  {
   "cell_type": "code",
   "execution_count": null,
   "metadata": {},
   "outputs": [],
   "source": [
    "#XGBoost SBP model for baseline adjustment\n",
    "topmed_no_pc_sbp_load_y_train_adj, topmed_no_pc_sbp_load_y_test_adj, topmed_xgb_no_pc_sbp_results = adj_pheno(baseline_phenotype_data_train_sbp, baseline_phenotype_data_test_sbp, \n",
    "                                                                                         baseline_y_train_sbp, baseline_y_test_sbp, \n",
    "                                                                                         sbp_baseline_params, sbp_baseline_xgb_num_boost_rounds,\\\n",
    "                                                                                         var = 'SBP', model_type = 'xgboost', ukbb_flag= False, output_results = True, \n",
    "                                                                                         save_model_weights = False,\n",
    "                                                                                         load_model_weights = True,\n",
    "                                                                                         model_weights_name = 'TOPMed_baseline_sbp_xgb_model_weights',\n",
    "                                                                                         train_export_data_name = 'TOPMed_training_sbp_baseline_data_and_xgb_adjustment.csv', \n",
    "                                                                                         test_export_data_name = 'TOPMed_testing_sbp_baseline_data_and_xgb_adjustment.csv')\n",
    "topmed_xgb_no_pc_sbp_results"
   ]
  },
  {
   "cell_type": "code",
   "execution_count": null,
   "metadata": {},
   "outputs": [],
   "source": [
    "xgb_sbp_model_name = 'TOPMed_baseline_sbp_xgb_model_weights_SBP.pkl'\n",
    "xgb_baseline_model_sbp_prediction_interval = bootstrap_prediction_intervals('sbp', baseline_phenotype_data_test_sbp, baseline_y_test_sbp, 'xgboost', xgb_sbp_model_name)\n"
   ]
  },
  {
   "cell_type": "code",
   "execution_count": null,
   "metadata": {},
   "outputs": [],
   "source": [
    "#linear regression SBP model for baseline adjustment\n",
    "topmed_no_pc_sbp_load_y_train_adj_lr, topmed_no_pc_sbp_load_y_test_adj_lr, topmed_lr_no_pc_sbp_results = adj_pheno(baseline_phenotype_data_train_sbp, baseline_phenotype_data_test_sbp, \n",
    "                                                                                         baseline_y_train_sbp, baseline_y_test_sbp, \n",
    "                                                                                         sbp_baseline_params, sbp_baseline_xgb_num_boost_rounds,\\\n",
    "                                                                                         var = 'SBP', model_type = 'linear regression', ukbb_flag= False, output_results = True, \n",
    "                                                                                         save_model_weights = False,\n",
    "                                                                                         load_model_weights = True,\n",
    "                                                                                         model_weights_name = 'TOPMed_baseline_sbp_linear_regression_model_weights',\n",
    "                                                                                         train_export_data_name = 'TOPMed_training_sbp_baseline_data_and_linear_regression_adjustment.csv', \n",
    "                                                                                         test_export_data_name = 'TOPMed_testing_sbp_baseline_data_and_linear_regression_adjustment.csv')\n",
    "topmed_lr_no_pc_sbp_results"
   ]
  },
  {
   "cell_type": "code",
   "execution_count": null,
   "metadata": {},
   "outputs": [],
   "source": [
    "lr_sbp_model_name = 'TOPMed_baseline_sbp_linear_regression_model_weights_lr_SBP.pkl'\n",
    "lr_baseline_model_sbp_prediction_interval = bootstrap_prediction_intervals('sbp', baseline_phenotype_data_test_sbp, baseline_y_test_sbp, 'lr', lr_sbp_model_name)\n"
   ]
  },
  {
   "cell_type": "code",
   "execution_count": 13,
   "metadata": {},
   "outputs": [],
   "source": [
    "#Read in DBP baseline data \n",
    "\n",
    "baseline_phenotype_data_train_dbp = pd.read_csv(baseline_phenotypes_dir+'TOPMed_dbp_x_train_baseline_data.csv', dtype = {'sample.id':'str'}).set_index('sample.id')\n",
    "baseline_phenotype_data_test_dbp = pd.read_csv(baseline_phenotypes_dir+'TOPMed_dbp_x_test_baseline_data.csv', dtype = {'sample.id':'str'}).set_index('sample.id')\n",
    "\n",
    "baseline_y_train_dbp = pd.read_csv(baseline_phenotypes_dir+'TOPMed_dbp_y_train_baseline_data.csv', dtype = {'sample.id':'str'}).set_index('sample.id').iloc[:, 0]\n",
    "baseline_y_test_dbp = pd.read_csv(baseline_phenotypes_dir+'TOPMed_dbp_y_test_baseline_data.csv', dtype = {'sample.id':'str'}).set_index('sample.id').iloc[:, 0]"
   ]
  },
  {
   "cell_type": "code",
   "execution_count": null,
   "metadata": {},
   "outputs": [],
   "source": [
    "#DBP XGBoost Model\n",
    "topmed_no_pc_dbp_load_y_train_adj, topmed_no_pc_dbp_load_y_test_adj, topmed_xgb_no_pc_dbp_results = adj_pheno(baseline_phenotype_data_train_dbp, baseline_phenotype_data_test_dbp, \n",
    "                                                                                         baseline_y_train_dbp, baseline_y_test_dbp, \n",
    "                                                                                         dbp_baseline_params, dbp_baseline_xgb_num_boost_rounds,\\\n",
    "                                                                                         var = 'DBP', model_type = 'xgboost', ukbb_flag= False, output_results = True, \n",
    "                                                                                         save_model_weights = False,\n",
    "                                                                                         load_model_weights = True,\n",
    "                                                                                         model_weights_name = 'TOPMed_baseline_dbp_linear_regression_model_weights',\n",
    "                                                                                         train_export_data_name = 'TOPMed_training_dbp_baseline_data_and_xgb_adjustment.csv', \n",
    "                                                                                         test_export_data_name = 'TOPMed_testing_dbp_baseline_data_and_xgb_adjustment.csv')\n"
   ]
  },
  {
   "cell_type": "code",
   "execution_count": null,
   "metadata": {},
   "outputs": [],
   "source": [
    "xgb_dbp_model_name = 'TOPMed_baseline_dbp_xgb_model_weights_DBP.pkl'\n",
    "xgb_baseline_model_dbp_prediction_interval = bootstrap_prediction_intervals('dbp', baseline_phenotype_data_test_dbp, baseline_y_test_dbp, 'xgboost', xgb_dbp_model_name)\n",
    "xgb_baseline_model_dbp_prediction_interval"
   ]
  },
  {
   "cell_type": "code",
   "execution_count": null,
   "metadata": {},
   "outputs": [],
   "source": [
    "#DBP Linear Regression Model\n",
    "topmed_no_pc_dbp_load_y_train_adj_lr, topmed_no_pc_dbp_load_y_test_adj_lr, topmed_lr_no_pc_dbp_results = adj_pheno(baseline_phenotype_data_train_dbp, baseline_phenotype_data_test_dbp, \n",
    "                                                                                         baseline_y_train_dbp, baseline_y_test_dbp, \n",
    "                                                                                         dbp_baseline_params, dbp_baseline_xgb_num_boost_rounds,\\\n",
    "                                                                                         var = 'DBP', model_type = 'linear regression', ukbb_flag= False, output_results = True, \n",
    "                                                                                         save_model_weights = False,\n",
    "                                                                                         load_model_weights = True,\n",
    "                                                                                         model_weights_name = 'TOPMed_baseline_dbp_linear_regression_model_weights',\n",
    "                                                                                         train_export_data_name = 'TOPMed_training_dbp_baseline_data_and_linear_regression_adjustment.csv', \n",
    "                                                                                         test_export_data_name = 'TOPMed_testing_dbp_baseline_data_and_linear_regression_adjustment.csv')\n",
    "topmed_lr_no_pc_dbp_results"
   ]
  },
  {
   "cell_type": "code",
   "execution_count": null,
   "metadata": {},
   "outputs": [],
   "source": [
    "lr_dbp_model_name = 'TOPMed_baseline_dbp_linear_regression_model_weights_lr_DBP.pkl'\n",
    "lr_baseline_model_dbp_prediction_interval = bootstrap_prediction_intervals('dbp', baseline_phenotype_data_test_dbp, baseline_y_test_dbp, 'lr', lr_dbp_model_name)\n",
    "lr_baseline_model_dbp_prediction_interval"
   ]
  },
  {
   "cell_type": "code",
   "execution_count": null,
   "metadata": {},
   "outputs": [],
   "source": [
    "all_prediction_interval_results = pd.concat([\n",
    "    pd.concat([xgb_baseline_model_sbp_prediction_interval, topmed_xgb_no_pc_sbp_results['test_result']],axis = 1),\n",
    "    pd.concat([lr_baseline_model_sbp_prediction_interval, topmed_lr_no_pc_sbp_results['test_result']],axis = 1),\n",
    "    pd.concat([xgb_baseline_model_dbp_prediction_interval, topmed_xgb_no_pc_dbp_results['test_result']],axis = 1),\n",
    "    pd.concat([lr_baseline_model_dbp_prediction_interval, topmed_lr_no_pc_dbp_results['test_result']],axis = 1)\n",
    "], axis = 0)\n",
    "all_prediction_interval_results.to_csv('/2022_BP_ensemble/Results/baseline_model_prediction_intervals.csv')\n"
   ]
  }
 ],
 "metadata": {
  "kernelspec": {
   "display_name": "Python 3 (ipykernel)",
   "language": "python",
   "name": "python3"
  },
  "language_info": {
   "codemirror_mode": {
    "name": "ipython",
    "version": 3
   },
   "file_extension": ".py",
   "mimetype": "text/x-python",
   "name": "python",
   "nbconvert_exporter": "python",
   "pygments_lexer": "ipython3",
   "version": "3.10.9"
  }
 },
 "nbformat": 4,
 "nbformat_minor": 4
}
