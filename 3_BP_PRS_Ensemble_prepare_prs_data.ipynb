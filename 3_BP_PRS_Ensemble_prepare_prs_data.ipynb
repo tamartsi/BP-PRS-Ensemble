{
 "cells": [
  {
   "cell_type": "code",
   "execution_count": 1,
   "metadata": {},
   "outputs": [],
   "source": [
    "###############################################################\n",
    "# Purpose :  load and prepare the PRS data\n",
    "###############################################################\n",
    "\n",
    "import pandas as pd\n",
    "import numpy as np\n",
    "\n",
    "from sklearn.model_selection import train_test_split\n",
    "from sklearn.linear_model import LinearRegression, Lasso, LassoCV, ElasticNet, ElasticNetCV, LogisticRegression, RidgeCV\n",
    "from sklearn.metrics import r2_score, explained_variance_score, mean_squared_error, f1_score, accuracy_score\n",
    "from sklearn.model_selection import GridSearchCV\n",
    "from sklearn.model_selection import RandomizedSearchCV\n",
    "from sklearn.model_selection import cross_val_score\n",
    "from sklearn import preprocessing\n",
    "\n",
    "import xgboost as xgb\n",
    "from xgboost import XGBRegressor\n",
    "import pickle\n",
    "\n",
    "from step_3_auxiliary_functions import load_prsice"
   ]
  },
  {
   "cell_type": "code",
   "execution_count": 3,
   "metadata": {},
   "outputs": [],
   "source": [
    "#Read in baseline data to reindex/split members into train and test sets\n",
    "baseline_phenotypes_dir = '/2022_BP_ensemble/Data/TOPMed_phenotypes/baseline data/'\n",
    "\n",
    "baseline_phenotype_data_train_sbp = pd.read_csv(baseline_phenotypes_dir+'TOPMed_sbp_x_train_baseline_data.csv', dtype = {'sample.id':'str'}).set_index('sample.id')\n",
    "baseline_phenotype_data_test_sbp = pd.read_csv(baseline_phenotypes_dir+'TOPMed_sbp_x_test_baseline_data.csv', dtype = {'sample.id':'str'}).set_index('sample.id')\n",
    "\n",
    "baseline_phenotype_data_train_dbp = pd.read_csv(baseline_phenotypes_dir+'TOPMed_dbp_x_train_baseline_data.csv', dtype = {'sample.id':'str'}).set_index('sample.id')\n",
    "baseline_phenotype_data_test_dbp = pd.read_csv(baseline_phenotypes_dir+'TOPMed_dbp_x_test_baseline_data.csv', dtype = {'sample.id':'str'}).set_index('sample.id')\n"
   ]
  },
  {
   "cell_type": "code",
   "execution_count": 5,
   "metadata": {},
   "outputs": [],
   "source": [
    "gwas_list = ['BBJ','MVP','UKBB+ICBP','PRS-CsX', 'Local PRS UKBB']\n",
    "for i in gwas_list:\n",
    "    load_prsice(\"SBP\", baseline_phenotype_data_train_sbp,baseline_phenotype_data_test_sbp, i, single_threshold = False)\n",
    "    load_prsice(\"DBP\", baseline_phenotype_data_train_dbp,baseline_phenotype_data_test_dbp, i, single_threshold = False)"
   ]
  }
 ],
 "metadata": {
  "kernelspec": {
   "display_name": "Python 3 (ipykernel)",
   "language": "python",
   "name": "python3"
  },
  "language_info": {
   "codemirror_mode": {
    "name": "ipython",
    "version": 3
   },
   "file_extension": ".py",
   "mimetype": "text/x-python",
   "name": "python",
   "nbconvert_exporter": "python",
   "pygments_lexer": "ipython3",
   "version": "3.10.9"
  }
 },
 "nbformat": 4,
 "nbformat_minor": 4
}
