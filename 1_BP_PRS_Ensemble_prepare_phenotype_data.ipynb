{
 "cells": [
  {
   "cell_type": "code",
   "execution_count": 5,
   "metadata": {},
   "outputs": [],
   "source": [
    "###############################################################\n",
    "# Purpose :  Prepare the Phenotype data\n",
    "###############################################################\n",
    "\n",
    "import pandas as pd\n",
    "import numpy as np\n",
    "\n",
    "from sklearn.model_selection import train_test_split\n",
    "from sklearn.linear_model import LinearRegression, Lasso, LassoCV, ElasticNet, ElasticNetCV, LogisticRegression, RidgeCV\n",
    "from sklearn.metrics import r2_score, explained_variance_score, mean_squared_error, f1_score, accuracy_score\n",
    "from sklearn.model_selection import GridSearchCV\n",
    "from sklearn.model_selection import RandomizedSearchCV\n",
    "from sklearn.model_selection import cross_val_score\n",
    "from sklearn import preprocessing\n",
    "\n",
    "import xgboost as xgb\n",
    "from xgboost import XGBRegressor\n",
    "import pickle\n",
    "\n",
    "from step_1_auxiliary_functions import load_data"
   ]
  },
  {
   "cell_type": "code",
   "execution_count": null,
   "metadata": {},
   "outputs": [],
   "source": [
    "#load data and drop PC's from train/test split phenotype data\n",
    "baseline_y_train_sbp, baseline_y_test_sbp, baseline_phenotype_data_train_sbp_with_pc, baseline_phenotype_data_test_sbp_with_pc = load_data(\"SBP_V1\")\n",
    "baseline_phenotype_data_train_sbp = baseline_phenotype_data_train_sbp_with_pc.drop(['PC_1', 'PC_2', 'PC_3', 'PC_4', 'PC_5','PC_6','PC_7','PC_8','PC_9','PC_10','PC_11'], axis=1)\n",
    "baseline_phenotype_data_test_sbp = baseline_phenotype_data_test_sbp_with_pc.drop(['PC_1', 'PC_2', 'PC_3', 'PC_4', 'PC_5','PC_6','PC_7','PC_8','PC_9','PC_10','PC_11'], axis=1)\n",
    "\n",
    "baseline_y_train_dbp, baseline_y_test_dbp, baseline_phenotype_data_train_dbp_with_pc, baseline_phenotype_data_test_dbp_with_pc = load_data(\"DBP_V1\")\n",
    "baseline_phenotype_data_train_dbp = baseline_phenotype_data_train_dbp_with_pc.drop(['PC_1', 'PC_2', 'PC_3', 'PC_4', 'PC_5','PC_6','PC_7','PC_8','PC_9','PC_10','PC_11'], axis=1)\n",
    "baseline_phenotype_data_test_dbp = baseline_phenotype_data_test_dbp_with_pc.drop(['PC_1', 'PC_2', 'PC_3', 'PC_4', 'PC_5','PC_6','PC_7','PC_8','PC_9','PC_10','PC_11'], axis=1)"
   ]
  },
  {
   "cell_type": "code",
   "execution_count": 4,
   "metadata": {},
   "outputs": [],
   "source": [
    "#export training and testing datasets\n",
    "phenotype_data_export_path = '/2022_BP_ensemble/Data/TOPMed_phenotypes/baseline data/'\n",
    "\n",
    "baseline_phenotype_data_train_sbp.to_csv(phenotype_data_export_path+\"TOPMed_sbp_x_train_baseline_data.csv\")\n",
    "baseline_y_train_sbp.to_csv(phenotype_data_export_path+\"TOPMed_sbp_y_train_baseline_data.csv\")\n",
    "    \n",
    "baseline_phenotype_data_test_sbp.to_csv(phenotype_data_export_path+\"TOPMed_sbp_x_test_baseline_data.csv\")\n",
    "baseline_y_test_sbp.to_csv(phenotype_data_export_path+\"TOPMed_sbp_y_test_baseline_data.csv\")\n",
    "\n",
    "\n",
    "baseline_phenotype_data_train_dbp.to_csv(phenotype_data_export_path+\"TOPMed_dbp_x_train_baseline_data.csv\")\n",
    "baseline_y_train_dbp.to_csv(phenotype_data_export_path+\"TOPMed_dbp_y_train_baseline_data.csv\")\n",
    "    \n",
    "baseline_phenotype_data_test_dbp.to_csv(phenotype_data_export_path+\"TOPMed_dbp_x_test_baseline_data.csv\")\n",
    "baseline_y_test_dbp.to_csv(phenotype_data_export_path+\"TOPMed_dbp_y_test_baseline_data.csv\")\n"
   ]
  }
 ],
 "metadata": {
  "kernelspec": {
   "display_name": "Python 3 (ipykernel)",
   "language": "python",
   "name": "python3"
  },
  "language_info": {
   "codemirror_mode": {
    "name": "ipython",
    "version": 3
   },
   "file_extension": ".py",
   "mimetype": "text/x-python",
   "name": "python",
   "nbconvert_exporter": "python",
   "pygments_lexer": "ipython3",
   "version": "3.10.9"
  }
 },
 "nbformat": 4,
 "nbformat_minor": 4
}
