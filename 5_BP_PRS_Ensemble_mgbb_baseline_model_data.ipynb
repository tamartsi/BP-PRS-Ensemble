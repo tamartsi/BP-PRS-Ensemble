{
 "cells": [
  {
   "cell_type": "code",
   "execution_count": 3,
   "metadata": {},
   "outputs": [],
   "source": [
    "###############################################################\n",
    "# Purpose :  load baseline adjusted data, PRS, and run genetic models\n",
    "###############################################################\n",
    "\n",
    "import pandas as pd\n",
    "import numpy as np\n",
    "\n",
    "from sklearn.model_selection import train_test_split\n",
    "from sklearn.linear_model import LinearRegression, Lasso, LassoCV, ElasticNet, ElasticNetCV, LogisticRegression, RidgeCV\n",
    "from sklearn.metrics import r2_score, explained_variance_score, mean_squared_error, f1_score, accuracy_score\n",
    "from sklearn.model_selection import GridSearchCV\n",
    "from sklearn.model_selection import RandomizedSearchCV\n",
    "from sklearn.model_selection import cross_val_score\n",
    "from sklearn import preprocessing\n",
    "\n",
    "import xgboost as xgb\n",
    "from xgboost import XGBRegressor\n",
    "import pickle\n",
    "\n",
    "import optuna\n",
    "\n",
    "from step_5_auxiliary_functions import load_data_mgbb, mgb_adj_pheno, preprocess_mgbb_has_genetic_data, load_prsice_mgbb "
   ]
  },
  {
   "cell_type": "code",
   "execution_count": 6,
   "metadata": {},
   "outputs": [],
   "source": [
    "# Read in MGB Biobank Phenotype Data\n",
    "pheno_path = '/2022_BP_ensemble/MGB_phenotypes/'\n",
    "prs_path = '/2022_BP_ensemble/MGB_PRS_files/MGB_Biobank/'\n",
    "mgb_biobank_ukbb_prs_df = pd.read_csv(prs_path+'MGB_UKBB+ICBP_SBP_ls-all_R_0.1_500kb.all_score',sep = '\\s+')\n",
    "mgb_biobank_df_3 = pd.read_csv('/2022_BP_ensemble/MGB_phenotypes/BiobankPortal_ts429_2023-05-25-104922.csv', dtype = {'Biobank Subject ID':'str'})"
   ]
  },
  {
   "cell_type": "code",
   "execution_count": 7,
   "metadata": {},
   "outputs": [],
   "source": [
    "#flag if member on medication or not\n",
    "mgb_biobank_df_3['On Hypertension Meds'] = np.where((mgb_biobank_df_3['Antihypertensive combinations [Existence (Yes/No)][05/25/2021 to 5/25/2023]']=='Yes') | \\\n",
    "                                       (mgb_biobank_df_3['Antihypertensives-other [Existence (Yes/No)][From 05/25/2021]']=='Yes') | \\\n",
    "                                     (mgb_biobank_df_3['Beta blockers/related [Existence (Yes/No)][From 05/25/2021]']=='Yes') | \\\n",
    "                                     (mgb_biobank_df_3['Calcium channel blockers [Existence (Yes/No)][From 05/25/2021]']=='Yes') |\n",
    "                                     (mgb_biobank_df_3['Diuretics [Existence (Yes/No)][From 05/25/2021]']=='Yes') | \\\n",
    "                                     (mgb_biobank_df_3['Direct renin inhibitor [Existence (Yes/No)][From 05/25/2021]']=='Yes'),1,0)"
   ]
  },
  {
   "cell_type": "code",
   "execution_count": 8,
   "metadata": {},
   "outputs": [],
   "source": [
    "mgbb_features_list_1 = ['Biobank Subject ID','Gender','Age','Race',\n",
    "                        'Patient is consented to biobank [Existence (Yes/No)]',\n",
    "                       'Body Mass Index (BMI) [Average Value][From 05/25/2021]',\n",
    "                       'Systolic [Median Value][From 05/25/2021]',\n",
    "                       'Diastolic [Median Value][From 05/25/2021]']\n",
    "\n",
    "mgbb_features_list_with_meds = ['Biobank Subject ID','Gender','Age','Race',\n",
    "                        'Patient is consented to biobank [Existence (Yes/No)]',\n",
    "                       'Body Mass Index (BMI) [Average Value][From 05/25/2021]',\n",
    "                       'Systolic [Median Value][From 05/25/2021]',\n",
    "                       'Diastolic [Median Value][From 05/25/2021]','On Hypertension Meds']\n",
    "#remove patients on meds\n",
    "mgb_biobank_df = mgb_biobank_df_3.loc[(mgb_biobank_df_3['Antihypertensive combinations [Existence (Yes/No)][05/25/2021 to 5/25/2023]']=='No') & \\\n",
    "                                       (mgb_biobank_df_3['Antihypertensives-other [Existence (Yes/No)][From 05/25/2021]']=='No') & \\\n",
    "                                     (mgb_biobank_df_3['Beta blockers/related [Existence (Yes/No)][From 05/25/2021]']=='No') & \\\n",
    "                                     (mgb_biobank_df_3['Calcium channel blockers [Existence (Yes/No)][From 05/25/2021]']=='No') &\n",
    "                                     (mgb_biobank_df_3['Diuretics [Existence (Yes/No)][From 05/25/2021]']=='No') & \\\n",
    "                                     (mgb_biobank_df_3['Direct renin inhibitor [Existence (Yes/No)][From 05/25/2021]']=='No')]\n",
    "\n",
    "mgbb_combined_df = mgb_biobank_df[mgbb_features_list_1]"
   ]
  },
  {
   "cell_type": "code",
   "execution_count": null,
   "metadata": {},
   "outputs": [],
   "source": [
    "#read in fam file to compare list of patients having their PRS calculated vs those in the phenotype file\n",
    "mgb_biobank_fam_file = pd.read_csv(pheno_path+\"2021—08-11_unrels_pca.eigenvec\",\\\n",
    "                                   sep= '\\s+')\n",
    "\n",
    "mgb_biobank_fam_file.head()\n",
    "mgb_biobank_fam_file.columns = [\"FID\",\"Biobank Subject ID\",\"1\",\"2\",\"3\",\"4\",\"5\",\"6\",\"7\",\"8\",\"9\",\"10\",\"11\",\"12\",\"13\",\"14\",\"15\",\"16\",\"17\",\"18\",\"19\",\"20\"]\n",
    "#clean up subject ID and only take the second part\n",
    "mgb_biobank_fam_file['Biobank Subject ID'] = mgb_biobank_fam_file['Biobank Subject ID'].str.split('-').str[1]\n",
    "\n",
    "#remove duplicate IID by keeping the first value\n",
    "mgb_biobank_fam_file = mgb_biobank_fam_file.loc[mgb_biobank_fam_file.duplicated(subset=['Biobank Subject ID'])==False]\n",
    "#remove leading 0s in IID\n",
    "mgb_biobank_fam_file['Biobank Subject ID'] = [s.lstrip(\"0\") for s in mgb_biobank_fam_file['Biobank Subject ID']]\n",
    "mgb_biobank_fam_file.head()\n",
    "\n",
    "print(mgbb_combined_df.shape)\n",
    "print(mgb_biobank_fam_file.shape)\n",
    "\n",
    "print(sum(mgb_biobank_fam_file[\"Biobank Subject ID\"].isin(mgbb_combined_df['Biobank Subject ID'])))"
   ]
  },
  {
   "cell_type": "code",
   "execution_count": 10,
   "metadata": {},
   "outputs": [],
   "source": [
    "#extract the patient id from IID and remove leading 0s\n",
    "mgb_biobank_ukbb_prs_df_ids = mgb_biobank_ukbb_prs_df['IID'].str.split('-').str[1]\n",
    "mgb_biobank_ukbb_prs_df_ids = mgb_biobank_ukbb_prs_df_ids.loc[mgb_biobank_ukbb_prs_df_ids.duplicated()==False]\n",
    "mgb_biobank_ukbb_prs_df_ids = [s.lstrip(\"0\") for s in mgb_biobank_ukbb_prs_df_ids]"
   ]
  },
  {
   "cell_type": "code",
   "execution_count": 11,
   "metadata": {},
   "outputs": [],
   "source": [
    "mgbb_combined_df.columns = ['sample.id','GENDER','AGE_V1','race_clean',\n",
    "                            'genomic_data_existence','BMI_V1', 'SBP_V1','DBP_V1']\n",
    "mgbb_combined_df_clean = mgbb_combined_df"
   ]
  },
  {
   "cell_type": "code",
   "execution_count": 12,
   "metadata": {},
   "outputs": [],
   "source": [
    "#model parameters based on optuna outputs\n",
    "sbp_mgb_parameters_baseline = {'max_depth': 4, 'min_child_weight': 40, \\\n",
    "                                           'subsample': 0.7000000000000001, 'colsample_bytree': 0.7000000000000001, \\\n",
    "                                           'lambda': 49, 'alpha': 35, 'gamma': 22, 'eta': 0.04, 'nthread':-1}\n",
    "sbp_mgb_num_boost_round = 293\n",
    "\n",
    "dbp_mgb_parameters_baseline = {'max_depth': 100, 'min_child_weight': 9, 'subsample': 0.5,\\\n",
    "                               'colsample_bytree': 0.9, 'lambda': 0, 'alpha': 44, 'gamma': 22, 'eta': 0.01}\n",
    "dbp_mgb_num_boost_round = 405"
   ]
  },
  {
   "cell_type": "code",
   "execution_count": null,
   "metadata": {},
   "outputs": [],
   "source": [
    "#SBP\n",
    "sbp_y_mgb, sbp_phenotype_data_mgb = load_data_mgbb(mgbb_combined_df_clean,\"SBP_V1\")\n",
    "\n",
    "mgb_data_in_prs_fam = sbp_phenotype_data_mgb.index.isin(mgb_biobank_fam_file[\"Biobank Subject ID\"])\n",
    "sbp_y_mgb = sbp_y_mgb[mgb_data_in_prs_fam==True]\n",
    "sbp_phenotype_data_mgb = sbp_phenotype_data_mgb[mgb_data_in_prs_fam==True]\n",
    "sbp_phenotype_data_mgb['GENDER'] = np.where(sbp_phenotype_data_mgb['GENDER']==\"F\",1,0)\n",
    "\n",
    "#train test split and get residuals\n",
    "x_train_mgbb, x_test_mgbb, y_train_mgbb, y_test_mgbb = train_test_split(sbp_phenotype_data_mgb, \\\n",
    "                                                                        sbp_y_mgb, test_size=0.30, \\\n",
    "                                                                        random_state=1)\n",
    "#predict baseline phenotype for mgbb\n",
    "mgb_y_train_resid_sbp, mgb_baseline_results_sbp = mgb_adj_pheno(sbp_phenotype_data_mgb, sbp_y_mgb, model_type = \"xgboost\", \n",
    "                                                                optuna_flag = False, output_results = True,\n",
    "                                                                params = sbp_mgb_parameters_baseline,\n",
    "                                                                optuna_num_boost_round = sbp_mgb_num_boost_round,\n",
    "                                                                save_mod = False, mod_name = 'mgb_baseline_model_weights_sbp'\n",
    "                                                               )\n",
    "\n",
    "mgb_y_train_topmed_weights_resid_sbp, mgb_baseline_topmed_results_sbp = mgb_adj_pheno(sbp_phenotype_data_mgb, sbp_y_mgb, model_type = \"xgboost\", \n",
    "                                                                optuna_flag = False, output_results = True,\n",
    "                                                                params = sbp_mgb_parameters_baseline,\n",
    "                                                                optuna_num_boost_round = sbp_mgb_num_boost_round, load_baseline_topmed_model = True,\n",
    "                                                                save_mod = False, mod_name = 'mgb_baseline_model_weights_sbp', \n",
    "                                                                                      load_model_name = 'TOPMed_baseline_xgb_model_weights_SBP'\n",
    "                                                               )"
   ]
  },
  {
   "cell_type": "code",
   "execution_count": null,
   "metadata": {},
   "outputs": [],
   "source": [
    "#DBP\n",
    "dbp_y_mgb, dbp_phenotype_data_mgb = load_data_mgbb(mgbb_combined_df_clean,\"DBP_V1\")\n",
    "dbp_mgb_data_in_prs_fam = dbp_phenotype_data_mgb.index.isin(mgb_biobank_fam_file[\"Biobank Subject ID\"])\n",
    "dbp_y_mgb = dbp_y_mgb[dbp_mgb_data_in_prs_fam==True]\n",
    "dbp_phenotype_data_mgb = dbp_phenotype_data_mgb[dbp_mgb_data_in_prs_fam==True]\n",
    "dbp_phenotype_data_mgb['GENDER'] = np.where(dbp_phenotype_data_mgb['GENDER']==\"F\",1,0)\n",
    "\n",
    "#calculate residuals for validation set for TopMed-Trained Model\n",
    "dbp_mgb_y_train_resid, dbp_baseline_results = mgb_adj_pheno(dbp_phenotype_data_mgb, dbp_y_mgb,model_type = \"xgboost\", \n",
    "                                                            optuna_flag = False, output_results = True,\n",
    "                                                           params = dbp_mgb_parameters_baseline, \n",
    "                                                           optuna_num_boost_round = dbp_mgb_num_boost_round,\n",
    "                                                           save_mod = True, mod_name = 'mgb_baseline_model_weights_dbp')\n",
    "\n",
    "mgb_y_train_topmed_weights_resid_dbp, mgb_baseline_topmed_results_dbp = mgb_adj_pheno(dbp_phenotype_data_mgb, dbp_y_mgb, model_type = \"xgboost\", \n",
    "                                                                optuna_flag = False, output_results = True,\n",
    "                                                                params = dbp_mgb_parameters_baseline,\n",
    "                                                                optuna_num_boost_round = dbp_mgb_num_boost_round, load_baseline_topmed_model = True,\n",
    "                                                                save_mod = False, mod_name = 'mgb_baseline_model_weights_dbp', \n",
    "                                                                                      load_model_name = 'TOPMed_baseline_dbp_xgb_model_weights_DBP'\n",
    "                                                               )\n",
    "\n",
    "#create training and testing set when doing prediction model solely on MGBB\n",
    "dbp_x_train_mgbb = dbp_phenotype_data_mgb.reindex(x_train_mgbb.index)\n",
    "dbp_x_test_mgbb = dbp_phenotype_data_mgb.reindex(x_test_mgbb.index)\n",
    "dbp_y_train_mgbb = dbp_y_mgb.reindex(y_train_mgbb.index)\n",
    "dbp_y_test_mgbb = dbp_y_mgb.reindex(y_test_mgbb.index)"
   ]
  },
  {
   "cell_type": "code",
   "execution_count": 43,
   "metadata": {},
   "outputs": [],
   "source": [
    "mgb_biobank_table1_data = pd.concat([sbp_phenotype_data_mgb,sbp_y_mgb,dbp_y_mgb], axis =1)  \n",
    "mgb_biobank_table1_data.to_csv(\"/2022_BP_ensemble/MGB_Phenotypes/MGBB_Table1_Data.csv\", index=False)\n"
   ]
  },
  {
   "cell_type": "code",
   "execution_count": 46,
   "metadata": {},
   "outputs": [],
   "source": [
    "combined_mgb_baseline_results = pd.concat([mgb_baseline_results_sbp,dbp_baseline_results],axis=0)\n",
    "combined_mgb_baseline_results['phenotype'] = (['SBP']*len(mgb_baseline_results_sbp))+(['DBP']*len(dbp_baseline_results))\n",
    "combined_mgb_baseline_results.to_csv(\"/2022_BP_ensemble/Results/MGBB_baseline_results.csv\", index=False)"
   ]
  },
  {
   "cell_type": "code",
   "execution_count": 48,
   "metadata": {},
   "outputs": [],
   "source": [
    "sbp_mgb_biobank_ukbb_prs_df = load_prsice_mgbb(\"SBP\", sbp_phenotype_data_mgb, \"UKBB+ICBP\", single_threshold = False,\n",
    "                prs_dir ='/2022_BP_ensemble/MGB_PRS_files/MGB_Biobank/',\n",
    "                ukbb_flag = False)\n",
    "\n",
    "sbp_mgb_biobank_mvp_prs_df = load_prsice_mgbb(\"SBP\", sbp_phenotype_data_mgb, \"MVP\", single_threshold = False,\n",
    "                prs_dir ='/2022_BP_ensemble/MGB_PRS_files/MGB_Biobank/',\n",
    "                ukbb_flag = False)\n",
    "\n",
    "sbp_mgb_biobank_bbj_prs_df = load_prsice_mgbb(\"SBP\", sbp_phenotype_data_mgb, \"BBJ\", single_threshold = False,\n",
    "                prs_dir ='/2022_BP_ensemble/MGB_PRS_files/MGB_Biobank/',\n",
    "                ukbb_flag = False)"
   ]
  },
  {
   "cell_type": "code",
   "execution_count": 49,
   "metadata": {},
   "outputs": [],
   "source": [
    "#load PRSice for DBP\n",
    "dbp_mgb_biobank_ukbb_prs_df = load_prsice_mgbb(\"DBP\", dbp_phenotype_data_mgb, \"UKBB+ICBP\", single_threshold = False,\n",
    "                prs_dir ='/2022_BP_ensemble/MGB_PRS_files/MGB_Biobank/',\n",
    "                ukbb_flag = False)\n",
    "#mgb_biobank_ukbb_prs_df[~mgb_biobank_ukbb_prs_df['SBP_UKBB+ICBP_Pt_0.01'].isnull()]\n",
    "\n",
    "dbp_mgb_biobank_mvp_prs_df = load_prsice_mgbb(\"DBP\", dbp_phenotype_data_mgb, \"MVP\", single_threshold = False,\n",
    "                prs_dir ='/2022_BP_ensemble/MGB_PRS_files/MGB_Biobank/',\n",
    "                ukbb_flag = False)\n",
    "\n",
    "dbp_mgb_biobank_bbj_prs_df = load_prsice_mgbb(\"DBP\", dbp_phenotype_data_mgb, \"BBJ\", single_threshold = False,\n",
    "                prs_dir ='/2022_BP_ensemble/MGB_PRS_files/MGB_Biobank/',\n",
    "                ukbb_flag = False)"
   ]
  },
  {
   "cell_type": "code",
   "execution_count": 50,
   "metadata": {},
   "outputs": [],
   "source": [
    "sbp_phenotype_data_mgb[[\"race_clean_AA\",\"race_clean_AsA\",\"race_clean_EA\",\"race_clean_HA\",\"race_clean_Other/Unknown\"]] = sbp_phenotype_data_mgb\\\n",
    "[[\"race_clean_AA\",\"race_clean_AsA\",\"race_clean_EA\",\"race_clean_HA\",\"race_clean_Other/Unknown\"]].apply(pd.to_numeric)\n",
    "\n",
    "dbp_phenotype_data_mgb[[\"race_clean_AA\",\"race_clean_AsA\",\"race_clean_EA\",\"race_clean_HA\",\"race_clean_Other/Unknown\"]] = dbp_phenotype_data_mgb\\\n",
    "[[\"race_clean_AA\",\"race_clean_AsA\",\"race_clean_EA\",\"race_clean_HA\",\"race_clean_Other/Unknown\"]].apply(pd.to_numeric)"
   ]
  },
  {
   "cell_type": "code",
   "execution_count": 51,
   "metadata": {},
   "outputs": [],
   "source": [
    "#find which rows has missing UKBB PRS data in mgb_biobank_ukbb_prs_df (loaded in from load_prsice_mgbb)\n",
    "\n",
    "topmed_model_3_cols = ['race_clean_AA', 'race_clean_AsA', 'race_clean_EA', 'race_clean_HA',\n",
    "       'race_clean_Other/Unknown', 'GENDER', 'AGE_V1', 'BMI_V1',\n",
    "       'SBP_BBJ_Pt_5e-08', 'SBP_BBJ_Pt_1e-07', 'SBP_BBJ_Pt_1e-06',\n",
    "       'SBP_BBJ_Pt_1e-05', 'SBP_BBJ_Pt_0.0001', 'SBP_BBJ_Pt_0.001',\n",
    "       'SBP_BBJ_Pt_0.01', 'SBP_MVP_Pt_5e-08', 'SBP_MVP_Pt_1e-07',\n",
    "       'SBP_MVP_Pt_1e-06', 'SBP_MVP_Pt_1e-05', 'SBP_MVP_Pt_0.0001',\n",
    "       'SBP_MVP_Pt_0.001', 'SBP_MVP_Pt_0.01', 'SBP_UKBB+ICBP_Pt_5e-08',\n",
    "       'SBP_UKBB+ICBP_Pt_1e-07', 'SBP_UKBB+ICBP_Pt_1e-06',\n",
    "       'SBP_UKBB+ICBP_Pt_1e-05', 'SBP_UKBB+ICBP_Pt_0.0001',\n",
    "       'SBP_UKBB+ICBP_Pt_0.001', 'SBP_UKBB+ICBP_Pt_0.01']\n",
    "\n",
    "#SBP\n",
    "ukbb_sna = sbp_mgb_biobank_ukbb_prs_df.isna().any(axis = 1)\n",
    "# model_1_x_data = phenotype_data_mgb\n",
    "sbp_model_1_x_data = pd.concat([sbp_phenotype_data_mgb, sbp_mgb_biobank_ukbb_prs_df[\"SBP_UKBB+ICBP_Pt_0.01\"]], axis=1)[ukbb_sna==False]\n",
    "sbp_model_2_x_data = pd.concat([sbp_phenotype_data_mgb, sbp_mgb_biobank_ukbb_prs_df], axis=1)[ukbb_sna==False]\n",
    "sbp_model_3_x_data = pd.concat([sbp_phenotype_data_mgb, sbp_mgb_biobank_ukbb_prs_df, \\\n",
    "                            sbp_mgb_biobank_bbj_prs_df, \\\n",
    "                            sbp_mgb_biobank_mvp_prs_df], axis=1)[ukbb_sna==False] #mgb_biobank_mvp_prs_df\n",
    "sbp_model_3_x_data = sbp_model_3_x_data[topmed_model_3_cols]\n",
    "\n",
    "#DBP\n",
    "#find which rows has missing UKBB PRS data in mgb_biobank_ukbb_prs_df (loaded in from load_prsice_mgbb)\n",
    "dbp_ukbb_sna = dbp_mgb_biobank_ukbb_prs_df.isna().any(axis = 1)\n",
    "# dbp_model_1_x_data = dbp_phenotype_data_mgb\n",
    "dbp_model_1_x_data = pd.concat([dbp_phenotype_data_mgb, dbp_mgb_biobank_ukbb_prs_df[\"DBP_UKBB+ICBP_Pt_0.01\"]], axis=1)[dbp_ukbb_sna==False]\n",
    "dbp_model_2_x_data = pd.concat([dbp_phenotype_data_mgb, dbp_mgb_biobank_ukbb_prs_df], axis=1)[dbp_ukbb_sna==False]\n",
    "dbp_model_3_x_data = pd.concat([dbp_phenotype_data_mgb, dbp_mgb_biobank_ukbb_prs_df, \\\n",
    "                            dbp_mgb_biobank_bbj_prs_df, \\\n",
    "                            dbp_mgb_biobank_mvp_prs_df], axis=1)[dbp_ukbb_sna==False] #mgb_biobank_mvp_prs_df"
   ]
  },
  {
   "cell_type": "code",
   "execution_count": 54,
   "metadata": {},
   "outputs": [],
   "source": [
    "#output dataset for covariates, outcome phenotype, residuals of outome predictions trained on MGBB, \n",
    "#residuals of outcome predictions trained on TOPMed weights\n",
    "sbp_phenotype_data_mgb.to_csv(pheno_path+'SBP_MGBB_Train.csv') #covariates from validation dataset (MGBB)\n",
    "sbp_y_mgb.to_csv(pheno_path+'SBP_MGBB_Y_Train.csv') #validation target variable dataset\n",
    "#trained baseline model on MGB and validate on the same dataset\n",
    "mgb_y_train_resid_sbp.to_csv(pheno_path+'SBP_MGBB_Y_Train_Resid.csv') #baseline predictions residuals when trained on MGBB\n",
    "\n",
    "#trained baseline model on TOPMed and validated on MGBB\n",
    "mgb_y_train_topmed_weights_resid_sbp.to_csv(pheno_path+'SBP_MGBB_TOPMED_WEIGHTS_Y_Train_Resid.csv') #prediction residuals from TOPMed baseline model weights\n",
    "\n",
    "#output datasets for PRSs\n",
    "sbp_mgb_biobank_ukbb_prs_df.to_csv(prs_path+'mgbb_sbp_ukbb_prs.csv')\n",
    "sbp_mgb_biobank_bbj_prs_df.to_csv(prs_path+'mgbb_sbp_bbj_prs.csv')\n",
    "sbp_mgb_biobank_mvp_prs_df.to_csv(prs_path+'mgbb_sbp_mvp_prs.csv')\n",
    "\n",
    "#repeat the same as above but for DBP\n",
    "dbp_phenotype_data_mgb.to_csv(pheno_path+'DBP_MGBB_Train.csv')\n",
    "dbp_y_mgb.to_csv(pheno_path+'DBP_MGBB_Y_Train.csv')\n",
    "dbp_mgb_y_train_resid.to_csv(pheno_path+'DBP_MGBB_Y_Train_Resid.csv')\n",
    "mgb_y_train_topmed_weights_resid_dbp.to_csv(pheno_path+'DBP_MGBB_TOPMED_WEIGHTS_Y_Train_Resid.csv')\n",
    "\n",
    "dbp_mgb_biobank_ukbb_prs_df.to_csv(prs_path+'mgbb_dbp_ukbb_prs.csv')\n",
    "dbp_mgb_biobank_bbj_prs_df.to_csv(prs_path+'mgbb_dbp_bbj_prs.csv')\n",
    "dbp_mgb_biobank_mvp_prs_df.to_csv(prs_path+'mgbb_dbp_mvp_prs.csv')"
   ]
  },
  {
   "cell_type": "code",
   "execution_count": null,
   "metadata": {},
   "outputs": [],
   "source": []
  }
 ],
 "metadata": {
  "kernelspec": {
   "display_name": "Python 3 (ipykernel)",
   "language": "python",
   "name": "python3"
  },
  "language_info": {
   "codemirror_mode": {
    "name": "ipython",
    "version": 3
   },
   "file_extension": ".py",
   "mimetype": "text/x-python",
   "name": "python",
   "nbconvert_exporter": "python",
   "pygments_lexer": "ipython3",
   "version": "3.10.9"
  }
 },
 "nbformat": 4,
 "nbformat_minor": 4
}
